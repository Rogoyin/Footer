{
 "cells": [
  {
   "cell_type": "code",
   "execution_count": 14,
   "metadata": {},
   "outputs": [],
   "source": [
    "import pandas as pd\n",
    "import numpy as np\n",
    "import seaborn as sns\n",
    "import matplotlib.pyplot as plt\n",
    "import re\n",
    "from notion_client import Client\n",
    "import tkinter as tk\n",
    "from tkinter import simpledialog, messagebox\n",
    "\n",
    "import sys\n",
    "sys.path.append('c:/Users/tomas/Documents/Programación/Universidad/Patricionog/Datos/Paquetes/')\n",
    "import Foragio as fg\n",
    "import Excelio as ex\n",
    "import Framio as fr\n",
    "import Stringio as st\n",
    "import Listio as ls\n",
    "import Graphio as gr\n",
    "import Footio as ft"
   ]
  },
  {
   "cell_type": "code",
   "execution_count": 15,
   "metadata": {},
   "outputs": [],
   "source": [
    "# Armar df.\n",
    "Dataset = 'Dataset.csv'\n",
    "\n",
    "df = pd.read_csv(Dataset)"
   ]
  },
  {
   "cell_type": "code",
   "execution_count": 16,
   "metadata": {},
   "outputs": [],
   "source": [
    "# Renombrar columnas.\n",
    "Renaming = {'date_name': 'Tournament',\n",
    "            'local_team_id': 'Home_ID',\n",
    "            'local_team': 'Home_Team',\n",
    "            'local_result': 'Home_Goals',\n",
    "            'visitor_result': 'Away_Goals',\n",
    "            'visitor_team': 'Away_Team',\n",
    "            'visitor_team_id': 'Away_ID'}\n",
    "\n",
    "df = fr.Change_Column_Names_By_Dictionary(df, Renaming)"
   ]
  },
  {
   "cell_type": "code",
   "execution_count": 17,
   "metadata": {},
   "outputs": [],
   "source": [
    "# Columna \"Year\".\n",
    "df = fr.Get_Last_Number_Of_String_Column(df, 'Tournament', 'Year')"
   ]
  },
  {
   "cell_type": "code",
   "execution_count": 18,
   "metadata": {},
   "outputs": [],
   "source": [
    "# Quitar números de \"Tournament\".\n",
    "df['Tournament'] = df['Tournament'].apply(lambda Row: st.Remove_Everything_Least_Numbers(Row, Remove_Everything = False))"
   ]
  },
  {
   "cell_type": "code",
   "execution_count": 19,
   "metadata": {},
   "outputs": [],
   "source": [
    "# Columna \"Result\".\n",
    "df['Result'] = df.apply(lambda Row: fr.Values_Of_New_Column_By_Compare_Other_Columns(Row, 'Home_Goals', 'Home', 'Away_Goals', 'Away', 'Draw'), axis=1)"
   ]
  },
  {
   "cell_type": "code",
   "execution_count": 20,
   "metadata": {},
   "outputs": [],
   "source": [
    "Team1 = 'River Plate'\n",
    "Team2 = 'Boca Juniors'\n",
    "\n",
    "Data_History, df_History = ft.Get_History(df, Team1, Team2, Field = None, Tournament_Type = None, Tournaments = None, \n",
    "                                       Period = True, Year1 = 1920, Year2 = 2024, PJ = True, \n",
    "                                       Team1_Win = True, Team2_Win = True, Father = True, Difference = True, Difference_Goal = True,\n",
    "                                       Min_Goals_Team1 = None, Max_Goals_Team1 = None, \n",
    "                                       Min_Goals_Team2 = 3, Max_Goals_Team2 = None,)"
   ]
  },
  {
   "cell_type": "code",
   "execution_count": 21,
   "metadata": {},
   "outputs": [
    {
     "data": {
      "text/plain": [
       "{'Matches': 27,\n",
       " 'River Plate wins:': 3,\n",
       " 'Boca Juniors wins:': 22,\n",
       " 'Father': 'Boca Juniors',\n",
       " 'Difference': '+19',\n",
       " 'Goals_Difference': '+19'}"
      ]
     },
     "execution_count": 21,
     "metadata": {},
     "output_type": "execute_result"
    }
   ],
   "source": [
    "Data_History"
   ]
  }
 ],
 "metadata": {
  "kernelspec": {
   "display_name": "Python 3",
   "language": "python",
   "name": "python3"
  },
  "language_info": {
   "codemirror_mode": {
    "name": "ipython",
    "version": 3
   },
   "file_extension": ".py",
   "mimetype": "text/x-python",
   "name": "python",
   "nbconvert_exporter": "python",
   "pygments_lexer": "ipython3",
   "version": "3.11.9"
  }
 },
 "nbformat": 4,
 "nbformat_minor": 2
}
